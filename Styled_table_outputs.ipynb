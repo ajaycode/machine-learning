{
  "nbformat": 4,
  "nbformat_minor": 0,
  "metadata": {
    "colab": {
      "provenance": [],
      "include_colab_link": true
    },
    "kernelspec": {
      "name": "python3",
      "display_name": "Python 3"
    }
  },
  "cells": [
    {
      "cell_type": "markdown",
      "metadata": {
        "id": "view-in-github",
        "colab_type": "text"
      },
      "source": [
        "<a href=\"https://colab.research.google.com/github/ajaycode/machine-learning/blob/main/Styled_table_outputs.ipynb\" target=\"_parent\"><img src=\"https://colab.research.google.com/assets/colab-badge.svg\" alt=\"Open In Colab\"/></a>"
      ]
    },
    {
      "metadata": {
        "id": "k1IkOE6YxorM"
      },
      "source": [
        "The example below is based on:\n",
        "https://pandas.pydata.org/pandas-docs/stable/style.html\n",
        "\n",
        "which has many more examples of Pandas table styling options."
      ],
      "cell_type": "markdown"
    },
    {
      "metadata": {
        "id": "1qqZ2wiOwTbp",
        "colab": {
          "base_uri": "https://localhost:8080/",
          "height": 359
        },
        "outputId": "0d503dab-f1f8-426d-f935-20e88cdb2840"
      },
      "source": [
        "import pandas as pd\n",
        "import numpy as np\n",
        "\n",
        "np.random.seed(24)\n",
        "df = pd.DataFrame({'A': np.linspace(1, 10, 10)})\n",
        "df = pd.concat([df, pd.DataFrame(np.random.randn(10, 4), columns=list('BCDE'))],\n",
        "               axis=1)\n",
        "df.iloc[0, 2] = np.nan\n",
        "df"
      ],
      "cell_type": "code",
      "execution_count": null,
      "outputs": [
        {
          "output_type": "execute_result",
          "data": {
            "text/html": [
              "<div>\n",
              "<style>\n",
              "    .dataframe thead tr:only-child th {\n",
              "        text-align: right;\n",
              "    }\n",
              "\n",
              "    .dataframe thead th {\n",
              "        text-align: left;\n",
              "    }\n",
              "\n",
              "    .dataframe tbody tr th {\n",
              "        vertical-align: top;\n",
              "    }\n",
              "</style>\n",
              "<table border=\"1\" class=\"dataframe\">\n",
              "  <thead>\n",
              "    <tr style=\"text-align: right;\">\n",
              "      <th></th>\n",
              "      <th>A</th>\n",
              "      <th>B</th>\n",
              "      <th>C</th>\n",
              "      <th>D</th>\n",
              "      <th>E</th>\n",
              "    </tr>\n",
              "  </thead>\n",
              "  <tbody>\n",
              "    <tr>\n",
              "      <th>0</th>\n",
              "      <td>1.0</td>\n",
              "      <td>1.329212</td>\n",
              "      <td>NaN</td>\n",
              "      <td>-0.316280</td>\n",
              "      <td>-0.990810</td>\n",
              "    </tr>\n",
              "    <tr>\n",
              "      <th>1</th>\n",
              "      <td>2.0</td>\n",
              "      <td>-1.070816</td>\n",
              "      <td>-1.438713</td>\n",
              "      <td>0.564417</td>\n",
              "      <td>0.295722</td>\n",
              "    </tr>\n",
              "    <tr>\n",
              "      <th>2</th>\n",
              "      <td>3.0</td>\n",
              "      <td>-1.626404</td>\n",
              "      <td>0.219565</td>\n",
              "      <td>0.678805</td>\n",
              "      <td>1.889273</td>\n",
              "    </tr>\n",
              "    <tr>\n",
              "      <th>3</th>\n",
              "      <td>4.0</td>\n",
              "      <td>0.961538</td>\n",
              "      <td>0.104011</td>\n",
              "      <td>-0.481165</td>\n",
              "      <td>0.850229</td>\n",
              "    </tr>\n",
              "    <tr>\n",
              "      <th>4</th>\n",
              "      <td>5.0</td>\n",
              "      <td>1.453425</td>\n",
              "      <td>1.057737</td>\n",
              "      <td>0.165562</td>\n",
              "      <td>0.515018</td>\n",
              "    </tr>\n",
              "    <tr>\n",
              "      <th>5</th>\n",
              "      <td>6.0</td>\n",
              "      <td>-1.336936</td>\n",
              "      <td>0.562861</td>\n",
              "      <td>1.392855</td>\n",
              "      <td>-0.063328</td>\n",
              "    </tr>\n",
              "    <tr>\n",
              "      <th>6</th>\n",
              "      <td>7.0</td>\n",
              "      <td>0.121668</td>\n",
              "      <td>1.207603</td>\n",
              "      <td>-0.002040</td>\n",
              "      <td>1.627796</td>\n",
              "    </tr>\n",
              "    <tr>\n",
              "      <th>7</th>\n",
              "      <td>8.0</td>\n",
              "      <td>0.354493</td>\n",
              "      <td>1.037528</td>\n",
              "      <td>-0.385684</td>\n",
              "      <td>0.519818</td>\n",
              "    </tr>\n",
              "    <tr>\n",
              "      <th>8</th>\n",
              "      <td>9.0</td>\n",
              "      <td>1.686583</td>\n",
              "      <td>-1.325963</td>\n",
              "      <td>1.428984</td>\n",
              "      <td>-2.089354</td>\n",
              "    </tr>\n",
              "    <tr>\n",
              "      <th>9</th>\n",
              "      <td>10.0</td>\n",
              "      <td>-0.129820</td>\n",
              "      <td>0.631523</td>\n",
              "      <td>-0.586538</td>\n",
              "      <td>0.290720</td>\n",
              "    </tr>\n",
              "  </tbody>\n",
              "</table>\n",
              "</div>"
            ],
            "text/plain": [
              "      A         B         C         D         E\n",
              "0   1.0  1.329212       NaN -0.316280 -0.990810\n",
              "1   2.0 -1.070816 -1.438713  0.564417  0.295722\n",
              "2   3.0 -1.626404  0.219565  0.678805  1.889273\n",
              "3   4.0  0.961538  0.104011 -0.481165  0.850229\n",
              "4   5.0  1.453425  1.057737  0.165562  0.515018\n",
              "5   6.0 -1.336936  0.562861  1.392855 -0.063328\n",
              "6   7.0  0.121668  1.207603 -0.002040  1.627796\n",
              "7   8.0  0.354493  1.037528 -0.385684  0.519818\n",
              "8   9.0  1.686583 -1.325963  1.428984 -2.089354\n",
              "9  10.0 -0.129820  0.631523 -0.586538  0.290720"
            ]
          },
          "metadata": {
            "tags": []
          },
          "execution_count": 7
        }
      ]
    }
  ]
}