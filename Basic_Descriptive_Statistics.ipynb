{
  "nbformat": 4,
  "nbformat_minor": 0,
  "metadata": {
    "colab": {
      "provenance": [],
      "authorship_tag": "ABX9TyN+BiBV7DKAVd/c7UicnZd4",
      "include_colab_link": true
    },
    "kernelspec": {
      "name": "python3",
      "display_name": "Python 3"
    },
    "language_info": {
      "name": "python"
    }
  },
  "cells": [
    {
      "cell_type": "markdown",
      "metadata": {
        "id": "view-in-github",
        "colab_type": "text"
      },
      "source": [
        "<a href=\"https://colab.research.google.com/github/ajaycode/machine-learning/blob/main/Basic_Descriptive_Statistics.ipynb\" target=\"_parent\"><img src=\"https://colab.research.google.com/assets/colab-badge.svg\" alt=\"Open In Colab\"/></a>"
      ]
    },
    {
      "cell_type": "code",
      "execution_count": null,
      "metadata": {
        "colab": {
          "base_uri": "https://localhost:8080/"
        },
        "id": "5QwA7JDUTY85",
        "outputId": "e93455df-8174-4d2a-f91b-64290607b30c"
      },
      "outputs": [
        {
          "output_type": "stream",
          "name": "stdout",
          "text": [
            "Number of entries Temperature          309792\n",
            "Relative_Humidity    309792\n",
            "dtype: int64\n",
            "Mean Temperature          68.874093\n",
            "Relative_Humidity    59.717007\n",
            "dtype: float64\n",
            "Median Temperature          68.18\n",
            "Relative_Humidity    61.00\n",
            "dtype: float64\n",
            "         Temperature  Relative_Humidity\n",
            "count  309792.000000      309792.000000\n",
            "mean       68.874093          59.717007\n",
            "std         4.333942           7.447237\n",
            "min        57.200000          35.500000\n",
            "25%        66.020000          54.475000\n",
            "50%        68.180000          61.000000\n",
            "75%        71.420000          65.100000\n",
            "max        83.480000          93.800000\n",
            "Number of rows:: 309792\n",
            "Number of columns:: 3\n",
            "Columns with missing values:: []\n"
          ]
        }
      ],
      "source": [
        "from google.colab import files\n",
        "# uploaded = files.upload()\n",
        "# for fn in uploaded.keys():\n",
        "#   print ('User uploaded file \"{name}\" with length {length} bytes'.format (\n",
        "#       name = fn, length = len (uploaded[fn])\n",
        "#   ))\n",
        "\n",
        "import pandas  as pd\n",
        "pd.options.mode.chained_assignment = None\n",
        "hygrometer_data = pd.read_csv ('Hygrometer2022.csv')\n",
        "hygrometer_data.head (n=10)\n",
        "columns_numeric = ['Temperature', 'Relative_Humidity']\n",
        "print (\"Number of entries {entries}\".format (entries = hygrometer_data[columns_numeric].count()))\n",
        "print (\"Mean {mean}\".format (mean = hygrometer_data[columns_numeric].mean()) )\n",
        "print (\"Median {median}\".format (median = hygrometer_data[columns_numeric].median()) )\n",
        "print (hygrometer_data[columns_numeric].describe())\n",
        "\n",
        "print (\"Number of rows::\", hygrometer_data.shape[0])\n",
        "print (\"Number of columns::\", hygrometer_data.shape[1])\n",
        "\n",
        "print (\"Columns with missing values::\", hygrometer_data.columns[hygrometer_data.isnull().any()].tolist())\n",
        "#hygrometer_data[columns_numeric].mean()\n",
        "\n",
        "#hygrometer_data[columns_numeric].count()\n",
        "#df.describe"
      ]
    }
  ]
}