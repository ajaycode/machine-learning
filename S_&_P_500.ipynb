{
  "nbformat": 4,
  "nbformat_minor": 0,
  "metadata": {
    "colab": {
      "provenance": [],
      "authorship_tag": "ABX9TyMiJaR3cMad+q8RU35qSzWU",
      "include_colab_link": true
    },
    "kernelspec": {
      "name": "python3",
      "display_name": "Python 3"
    },
    "language_info": {
      "name": "python"
    }
  },
  "cells": [
    {
      "cell_type": "markdown",
      "metadata": {
        "id": "view-in-github",
        "colab_type": "text"
      },
      "source": [
        "<a href=\"https://colab.research.google.com/github/ajaycode/machine-learning/blob/main/S_%26_P_500.ipynb\" target=\"_parent\"><img src=\"https://colab.research.google.com/assets/colab-badge.svg\" alt=\"Open In Colab\"/></a>"
      ]
    },
    {
      "cell_type": "markdown",
      "source": [
        "# S & P 500 Returns"
      ],
      "metadata": {
        "id": "8wp0lL5T9YWV"
      }
    },
    {
      "cell_type": "code",
      "source": [
        "#Import the python libraries\n",
        "import pandas as pd\n",
        "import numpy as np\n",
        "from datetime import datetime\n",
        "import matplotlib.pyplot as plt\n",
        "from google.colab import auth\n",
        "import gspread\n",
        "from google.auth import default\n",
        "plt.style.use('fivethirtyeight')"
      ],
      "metadata": {
        "id": "5S1z5BVc9eq8"
      },
      "execution_count": 1,
      "outputs": []
    },
    {
      "cell_type": "code",
      "source": [
        "auth.authenticate_user()\n",
        "creds,_ = default()\n",
        "gc = gspread.authorize (creds)"
      ],
      "metadata": {
        "id": "GcWKK-dO9gat"
      },
      "execution_count": 2,
      "outputs": []
    },
    {
      "cell_type": "code",
      "source": [
        "#from pandas._libs.tslibs.parsing import parse_datetime_string\n",
        "#workbook = gc.open_by_url('https://docs.google.com/spreadsheets/d/1MhfnKggZxJpKwsMMHoKXcSjvklbpoKyB0lsCWF3GYnw/edit#gid=0')\n",
        "#worksheet1    = workbook.worksheet('Sheet1')\n",
        "df1 = pd.read_csv (\"https://raw.githubusercontent.com/ajaycode/machine-learning/main/data/SandP_500.csv\")\n",
        "# required, if reading from Google Sheets.\n",
        "#df1 = pd.DataFrame (worksheet1.get_all_values())\n",
        "\n",
        "#Treat the first row as columns, needed if reading from a google sheet\n",
        "#df1.columns = df1.iloc[0]\n",
        "df1 = df1.iloc[1:]"
      ],
      "metadata": {
        "id": "xJxVMHxH9iY1"
      },
      "execution_count": 14,
      "outputs": []
    },
    {
      "cell_type": "code",
      "source": [
        "df1.head()"
      ],
      "metadata": {
        "colab": {
          "base_uri": "https://localhost:8080/",
          "height": 206
        },
        "id": "z1XMiG6bgKOU",
        "outputId": "dd1942f5-41c6-448a-98a0-e3277ab04385"
      },
      "execution_count": 15,
      "outputs": [
        {
          "output_type": "execute_result",
          "data": {
            "text/plain": [
              "   Year  Value\n",
              "1  1872   4.86\n",
              "2  1873   5.11\n",
              "3  1874   4.66\n",
              "4  1875   4.54\n",
              "5  1876   4.46"
            ],
            "text/html": [
              "\n",
              "  <div id=\"df-ed2b5b79-9a14-417b-8e9d-37daa4be0bea\">\n",
              "    <div class=\"colab-df-container\">\n",
              "      <div>\n",
              "<style scoped>\n",
              "    .dataframe tbody tr th:only-of-type {\n",
              "        vertical-align: middle;\n",
              "    }\n",
              "\n",
              "    .dataframe tbody tr th {\n",
              "        vertical-align: top;\n",
              "    }\n",
              "\n",
              "    .dataframe thead th {\n",
              "        text-align: right;\n",
              "    }\n",
              "</style>\n",
              "<table border=\"1\" class=\"dataframe\">\n",
              "  <thead>\n",
              "    <tr style=\"text-align: right;\">\n",
              "      <th></th>\n",
              "      <th>Year</th>\n",
              "      <th>Value</th>\n",
              "    </tr>\n",
              "  </thead>\n",
              "  <tbody>\n",
              "    <tr>\n",
              "      <th>1</th>\n",
              "      <td>1872</td>\n",
              "      <td>4.86</td>\n",
              "    </tr>\n",
              "    <tr>\n",
              "      <th>2</th>\n",
              "      <td>1873</td>\n",
              "      <td>5.11</td>\n",
              "    </tr>\n",
              "    <tr>\n",
              "      <th>3</th>\n",
              "      <td>1874</td>\n",
              "      <td>4.66</td>\n",
              "    </tr>\n",
              "    <tr>\n",
              "      <th>4</th>\n",
              "      <td>1875</td>\n",
              "      <td>4.54</td>\n",
              "    </tr>\n",
              "    <tr>\n",
              "      <th>5</th>\n",
              "      <td>1876</td>\n",
              "      <td>4.46</td>\n",
              "    </tr>\n",
              "  </tbody>\n",
              "</table>\n",
              "</div>\n",
              "      <button class=\"colab-df-convert\" onclick=\"convertToInteractive('df-ed2b5b79-9a14-417b-8e9d-37daa4be0bea')\"\n",
              "              title=\"Convert this dataframe to an interactive table.\"\n",
              "              style=\"display:none;\">\n",
              "        \n",
              "  <svg xmlns=\"http://www.w3.org/2000/svg\" height=\"24px\"viewBox=\"0 0 24 24\"\n",
              "       width=\"24px\">\n",
              "    <path d=\"M0 0h24v24H0V0z\" fill=\"none\"/>\n",
              "    <path d=\"M18.56 5.44l.94 2.06.94-2.06 2.06-.94-2.06-.94-.94-2.06-.94 2.06-2.06.94zm-11 1L8.5 8.5l.94-2.06 2.06-.94-2.06-.94L8.5 2.5l-.94 2.06-2.06.94zm10 10l.94 2.06.94-2.06 2.06-.94-2.06-.94-.94-2.06-.94 2.06-2.06.94z\"/><path d=\"M17.41 7.96l-1.37-1.37c-.4-.4-.92-.59-1.43-.59-.52 0-1.04.2-1.43.59L10.3 9.45l-7.72 7.72c-.78.78-.78 2.05 0 2.83L4 21.41c.39.39.9.59 1.41.59.51 0 1.02-.2 1.41-.59l7.78-7.78 2.81-2.81c.8-.78.8-2.07 0-2.86zM5.41 20L4 18.59l7.72-7.72 1.47 1.35L5.41 20z\"/>\n",
              "  </svg>\n",
              "      </button>\n",
              "      \n",
              "  <style>\n",
              "    .colab-df-container {\n",
              "      display:flex;\n",
              "      flex-wrap:wrap;\n",
              "      gap: 12px;\n",
              "    }\n",
              "\n",
              "    .colab-df-convert {\n",
              "      background-color: #E8F0FE;\n",
              "      border: none;\n",
              "      border-radius: 50%;\n",
              "      cursor: pointer;\n",
              "      display: none;\n",
              "      fill: #1967D2;\n",
              "      height: 32px;\n",
              "      padding: 0 0 0 0;\n",
              "      width: 32px;\n",
              "    }\n",
              "\n",
              "    .colab-df-convert:hover {\n",
              "      background-color: #E2EBFA;\n",
              "      box-shadow: 0px 1px 2px rgba(60, 64, 67, 0.3), 0px 1px 3px 1px rgba(60, 64, 67, 0.15);\n",
              "      fill: #174EA6;\n",
              "    }\n",
              "\n",
              "    [theme=dark] .colab-df-convert {\n",
              "      background-color: #3B4455;\n",
              "      fill: #D2E3FC;\n",
              "    }\n",
              "\n",
              "    [theme=dark] .colab-df-convert:hover {\n",
              "      background-color: #434B5C;\n",
              "      box-shadow: 0px 1px 3px 1px rgba(0, 0, 0, 0.15);\n",
              "      filter: drop-shadow(0px 1px 2px rgba(0, 0, 0, 0.3));\n",
              "      fill: #FFFFFF;\n",
              "    }\n",
              "  </style>\n",
              "\n",
              "      <script>\n",
              "        const buttonEl =\n",
              "          document.querySelector('#df-ed2b5b79-9a14-417b-8e9d-37daa4be0bea button.colab-df-convert');\n",
              "        buttonEl.style.display =\n",
              "          google.colab.kernel.accessAllowed ? 'block' : 'none';\n",
              "\n",
              "        async function convertToInteractive(key) {\n",
              "          const element = document.querySelector('#df-ed2b5b79-9a14-417b-8e9d-37daa4be0bea');\n",
              "          const dataTable =\n",
              "            await google.colab.kernel.invokeFunction('convertToInteractive',\n",
              "                                                     [key], {});\n",
              "          if (!dataTable) return;\n",
              "\n",
              "          const docLinkHtml = 'Like what you see? Visit the ' +\n",
              "            '<a target=\"_blank\" href=https://colab.research.google.com/notebooks/data_table.ipynb>data table notebook</a>'\n",
              "            + ' to learn more about interactive tables.';\n",
              "          element.innerHTML = '';\n",
              "          dataTable['output_type'] = 'display_data';\n",
              "          await google.colab.output.renderOutput(dataTable, element);\n",
              "          const docLink = document.createElement('div');\n",
              "          docLink.innerHTML = docLinkHtml;\n",
              "          element.appendChild(docLink);\n",
              "        }\n",
              "      </script>\n",
              "    </div>\n",
              "  </div>\n",
              "  "
            ]
          },
          "metadata": {},
          "execution_count": 15
        }
      ]
    },
    {
      "cell_type": "code",
      "source": [
        "#Column names that contain returns\n",
        "One_Year = '1Y %'\n",
        "Three_Year = '3Y %'\n",
        "Five_Year = '5Y %'\n",
        "Ten_Year  = '10Y %'\n",
        "Fifteen_Year = '15Y %'\n",
        "Twenty_Year  = '20Y %'\n",
        "TwentyFive_Year  = '25Y %'\n",
        "Thirty_Year  = '30Y %'\n",
        "Forty_Year   = '40Y %'\n",
        "Fifty_Year  = '50Y %'"
      ],
      "metadata": {
        "id": "AKnoBEjPYedo"
      },
      "execution_count": 16,
      "outputs": []
    },
    {
      "cell_type": "code",
      "source": [
        "# Convert to integer and floating data typles\n",
        "#df1['Year']  = pd.to_numeric (df1['Year'], errors = 'coerce')\n",
        "#df1['Value'] = pd.to_numeric   (df1['Value'],errors='coerce')"
      ],
      "metadata": {
        "id": "hgA3ipEi9zTF"
      },
      "execution_count": 17,
      "outputs": []
    },
    {
      "cell_type": "code",
      "source": [
        "#Check if there are NaN values (non numbers) and display them\n",
        "#newdf = df1[(df1['Value'].isnull())]\n",
        "#print (newdf)"
      ],
      "metadata": {
        "id": "spdTDLDyO8_V"
      },
      "execution_count": 18,
      "outputs": []
    },
    {
      "cell_type": "code",
      "source": [
        "# N year returns\n",
        "#df1.at [0,1,2,3,4, Five_Year] = 0\n",
        "def returns_in_n_years (number_of_years, column_name_to_be_updated):\n",
        "  num_years = number_of_years\n",
        "  for i in range (num_years, len(df1)):\n",
        "    #df1.at[i+1, column_name_to_be_updated] = 100*(df1.iloc[i]['Value'] - df1.iloc[i-num_years]['Value'])/df1.iloc[i-num_years]['Value']\n",
        "    df1.at[i+1, column_name_to_be_updated] = 100*(((df1.iloc[i]['Value']/df1.iloc[i-num_years]['Value'])**(1/num_years))-1)\n",
        "  df1[column_name_to_be_updated] = df1[column_name_to_be_updated].round(2)\n",
        "  "
      ],
      "metadata": {
        "id": "ZylSyK5We_qa"
      },
      "execution_count": 19,
      "outputs": []
    },
    {
      "cell_type": "code",
      "source": [
        "returns_in_n_years (1, One_Year)\n",
        "returns_in_n_years (3, Three_Year)\n",
        "returns_in_n_years(5, Five_Year)\n",
        "returns_in_n_years (10, Ten_Year)\n",
        "returns_in_n_years (15, Fifteen_Year)\n",
        "returns_in_n_years (20, Twenty_Year)\n",
        "returns_in_n_years (25, TwentyFive_Year)\n",
        "returns_in_n_years (30, Thirty_Year)\n",
        "returns_in_n_years (40, Forty_Year)\n",
        "returns_in_n_years (50, Fifty_Year)"
      ],
      "metadata": {
        "id": "izZsy5izfuuY"
      },
      "execution_count": 20,
      "outputs": []
    },
    {
      "cell_type": "code",
      "source": [
        "#df1.tail()\n",
        "#df1[One_Year]  = pd.to_numeric (df1[One_Year], errors = 'coerce')\n",
        "#df1[Three_Year]  = pd.to_numeric (df1[Three_Year], errors = 'coerce')\n",
        "df1.info()"
      ],
      "metadata": {
        "id": "AUJBNA4ob2wB",
        "outputId": "0c897384-8d2f-40e6-9517-f652e33fa0a1",
        "colab": {
          "base_uri": "https://localhost:8080/"
        }
      },
      "execution_count": 21,
      "outputs": [
        {
          "output_type": "stream",
          "name": "stdout",
          "text": [
            "<class 'pandas.core.frame.DataFrame'>\n",
            "RangeIndex: 151 entries, 1 to 151\n",
            "Data columns (total 12 columns):\n",
            " #   Column  Non-Null Count  Dtype  \n",
            "---  ------  --------------  -----  \n",
            " 0   Year    151 non-null    int64  \n",
            " 1   Value   151 non-null    float64\n",
            " 2   1Y %    150 non-null    float64\n",
            " 3   3Y %    148 non-null    float64\n",
            " 4   5Y %    146 non-null    float64\n",
            " 5   10Y %   141 non-null    float64\n",
            " 6   15Y %   136 non-null    float64\n",
            " 7   20Y %   131 non-null    float64\n",
            " 8   25Y %   126 non-null    float64\n",
            " 9   30Y %   121 non-null    float64\n",
            " 10  40Y %   111 non-null    float64\n",
            " 11  50Y %   101 non-null    float64\n",
            "dtypes: float64(11), int64(1)\n",
            "memory usage: 14.3 KB\n"
          ]
        }
      ]
    },
    {
      "cell_type": "code",
      "source": [
        "#df1[Ten_Year].mean()"
      ],
      "metadata": {
        "id": "v9xvuBqFlZgd"
      },
      "execution_count": 22,
      "outputs": []
    },
    {
      "cell_type": "code",
      "source": [
        "#Customizing the data table display, sortable columns\n",
        "from google.colab import data_table\n",
        "#Replace 'NaN' with blanks\n",
        "df1 = df1.replace (np.nan, '')\n",
        "#df1.fillna (\" \")\n",
        "#print (df1)\n",
        "df1.style.highlight_min (color='blue').highlight_max(color='magenta').highlight_null()\n",
        "df1.head(len(df1))\n",
        "#data_table.DataTable(df1, include_index=False, num_rows_per_page=len(df1))"
      ],
      "metadata": {
        "id": "0gb2Bd9VdurB"
      },
      "execution_count": null,
      "outputs": []
    },
    {
      "cell_type": "code",
      "source": [
        "#@title Calculate average for each period\n",
        "#df1[One_Year]  = pd.to_numeric (df1[One_Year], errors = 'coerce')\n",
        "\n",
        "#print (df1[One_Year].mean())\n",
        "#print (df1[Five_Year].mean())\n",
        "\n",
        "print( df1[[One_Year, Five_Year, Ten_Year, Fifteen_Year, Twenty_Year, TwentyFive_Year, Thirty_Year, Forty_Year, Fifty_Year]].mean().to_list())\n",
        "\n",
        "#Round all columns to digits after decimal\n",
        "averagedf = df1.round(2)\n",
        "averagedf.head()"
      ],
      "metadata": {
        "id": "sa5mDA8bHatn",
        "outputId": "3def38df-2965-4e6e-c91b-82d244c99200",
        "colab": {
          "base_uri": "https://localhost:8080/",
          "height": 278
        }
      },
      "execution_count": 24,
      "outputs": [
        {
          "output_type": "stream",
          "name": "stdout",
          "text": [
            "[]\n"
          ]
        },
        {
          "output_type": "stream",
          "name": "stderr",
          "text": [
            "<ipython-input-24-6f5592bceb1a>:7: FutureWarning: The default value of numeric_only in DataFrame.mean is deprecated. In a future version, it will default to False. In addition, specifying 'numeric_only=None' is deprecated. Select only valid columns or specify the value of numeric_only to silence this warning.\n",
            "  print( df1[[One_Year, Five_Year, Ten_Year, Fifteen_Year, Twenty_Year, TwentyFive_Year, Thirty_Year, Forty_Year, Fifty_Year]].mean().to_list())\n"
          ]
        },
        {
          "output_type": "execute_result",
          "data": {
            "text/plain": [
              "   Year  Value  1Y %  3Y % 5Y % 10Y % 15Y % 20Y % 25Y % 30Y % 40Y % 50Y %\n",
              "1  1872   4.86                                                           \n",
              "2  1873   5.11  5.14                                                     \n",
              "3  1874   4.66 -8.81                                                     \n",
              "4  1875   4.54 -2.58 -2.24                                               \n",
              "5  1876   4.46 -1.76 -4.43                                               "
            ],
            "text/html": [
              "\n",
              "  <div id=\"df-f5854af9-2d5c-446f-b48f-1cf87e680fb1\">\n",
              "    <div class=\"colab-df-container\">\n",
              "      <div>\n",
              "<style scoped>\n",
              "    .dataframe tbody tr th:only-of-type {\n",
              "        vertical-align: middle;\n",
              "    }\n",
              "\n",
              "    .dataframe tbody tr th {\n",
              "        vertical-align: top;\n",
              "    }\n",
              "\n",
              "    .dataframe thead th {\n",
              "        text-align: right;\n",
              "    }\n",
              "</style>\n",
              "<table border=\"1\" class=\"dataframe\">\n",
              "  <thead>\n",
              "    <tr style=\"text-align: right;\">\n",
              "      <th></th>\n",
              "      <th>Year</th>\n",
              "      <th>Value</th>\n",
              "      <th>1Y %</th>\n",
              "      <th>3Y %</th>\n",
              "      <th>5Y %</th>\n",
              "      <th>10Y %</th>\n",
              "      <th>15Y %</th>\n",
              "      <th>20Y %</th>\n",
              "      <th>25Y %</th>\n",
              "      <th>30Y %</th>\n",
              "      <th>40Y %</th>\n",
              "      <th>50Y %</th>\n",
              "    </tr>\n",
              "  </thead>\n",
              "  <tbody>\n",
              "    <tr>\n",
              "      <th>1</th>\n",
              "      <td>1872</td>\n",
              "      <td>4.86</td>\n",
              "      <td></td>\n",
              "      <td></td>\n",
              "      <td></td>\n",
              "      <td></td>\n",
              "      <td></td>\n",
              "      <td></td>\n",
              "      <td></td>\n",
              "      <td></td>\n",
              "      <td></td>\n",
              "      <td></td>\n",
              "    </tr>\n",
              "    <tr>\n",
              "      <th>2</th>\n",
              "      <td>1873</td>\n",
              "      <td>5.11</td>\n",
              "      <td>5.14</td>\n",
              "      <td></td>\n",
              "      <td></td>\n",
              "      <td></td>\n",
              "      <td></td>\n",
              "      <td></td>\n",
              "      <td></td>\n",
              "      <td></td>\n",
              "      <td></td>\n",
              "      <td></td>\n",
              "    </tr>\n",
              "    <tr>\n",
              "      <th>3</th>\n",
              "      <td>1874</td>\n",
              "      <td>4.66</td>\n",
              "      <td>-8.81</td>\n",
              "      <td></td>\n",
              "      <td></td>\n",
              "      <td></td>\n",
              "      <td></td>\n",
              "      <td></td>\n",
              "      <td></td>\n",
              "      <td></td>\n",
              "      <td></td>\n",
              "      <td></td>\n",
              "    </tr>\n",
              "    <tr>\n",
              "      <th>4</th>\n",
              "      <td>1875</td>\n",
              "      <td>4.54</td>\n",
              "      <td>-2.58</td>\n",
              "      <td>-2.24</td>\n",
              "      <td></td>\n",
              "      <td></td>\n",
              "      <td></td>\n",
              "      <td></td>\n",
              "      <td></td>\n",
              "      <td></td>\n",
              "      <td></td>\n",
              "      <td></td>\n",
              "    </tr>\n",
              "    <tr>\n",
              "      <th>5</th>\n",
              "      <td>1876</td>\n",
              "      <td>4.46</td>\n",
              "      <td>-1.76</td>\n",
              "      <td>-4.43</td>\n",
              "      <td></td>\n",
              "      <td></td>\n",
              "      <td></td>\n",
              "      <td></td>\n",
              "      <td></td>\n",
              "      <td></td>\n",
              "      <td></td>\n",
              "      <td></td>\n",
              "    </tr>\n",
              "  </tbody>\n",
              "</table>\n",
              "</div>\n",
              "      <button class=\"colab-df-convert\" onclick=\"convertToInteractive('df-f5854af9-2d5c-446f-b48f-1cf87e680fb1')\"\n",
              "              title=\"Convert this dataframe to an interactive table.\"\n",
              "              style=\"display:none;\">\n",
              "        \n",
              "  <svg xmlns=\"http://www.w3.org/2000/svg\" height=\"24px\"viewBox=\"0 0 24 24\"\n",
              "       width=\"24px\">\n",
              "    <path d=\"M0 0h24v24H0V0z\" fill=\"none\"/>\n",
              "    <path d=\"M18.56 5.44l.94 2.06.94-2.06 2.06-.94-2.06-.94-.94-2.06-.94 2.06-2.06.94zm-11 1L8.5 8.5l.94-2.06 2.06-.94-2.06-.94L8.5 2.5l-.94 2.06-2.06.94zm10 10l.94 2.06.94-2.06 2.06-.94-2.06-.94-.94-2.06-.94 2.06-2.06.94z\"/><path d=\"M17.41 7.96l-1.37-1.37c-.4-.4-.92-.59-1.43-.59-.52 0-1.04.2-1.43.59L10.3 9.45l-7.72 7.72c-.78.78-.78 2.05 0 2.83L4 21.41c.39.39.9.59 1.41.59.51 0 1.02-.2 1.41-.59l7.78-7.78 2.81-2.81c.8-.78.8-2.07 0-2.86zM5.41 20L4 18.59l7.72-7.72 1.47 1.35L5.41 20z\"/>\n",
              "  </svg>\n",
              "      </button>\n",
              "      \n",
              "  <style>\n",
              "    .colab-df-container {\n",
              "      display:flex;\n",
              "      flex-wrap:wrap;\n",
              "      gap: 12px;\n",
              "    }\n",
              "\n",
              "    .colab-df-convert {\n",
              "      background-color: #E8F0FE;\n",
              "      border: none;\n",
              "      border-radius: 50%;\n",
              "      cursor: pointer;\n",
              "      display: none;\n",
              "      fill: #1967D2;\n",
              "      height: 32px;\n",
              "      padding: 0 0 0 0;\n",
              "      width: 32px;\n",
              "    }\n",
              "\n",
              "    .colab-df-convert:hover {\n",
              "      background-color: #E2EBFA;\n",
              "      box-shadow: 0px 1px 2px rgba(60, 64, 67, 0.3), 0px 1px 3px 1px rgba(60, 64, 67, 0.15);\n",
              "      fill: #174EA6;\n",
              "    }\n",
              "\n",
              "    [theme=dark] .colab-df-convert {\n",
              "      background-color: #3B4455;\n",
              "      fill: #D2E3FC;\n",
              "    }\n",
              "\n",
              "    [theme=dark] .colab-df-convert:hover {\n",
              "      background-color: #434B5C;\n",
              "      box-shadow: 0px 1px 3px 1px rgba(0, 0, 0, 0.15);\n",
              "      filter: drop-shadow(0px 1px 2px rgba(0, 0, 0, 0.3));\n",
              "      fill: #FFFFFF;\n",
              "    }\n",
              "  </style>\n",
              "\n",
              "      <script>\n",
              "        const buttonEl =\n",
              "          document.querySelector('#df-f5854af9-2d5c-446f-b48f-1cf87e680fb1 button.colab-df-convert');\n",
              "        buttonEl.style.display =\n",
              "          google.colab.kernel.accessAllowed ? 'block' : 'none';\n",
              "\n",
              "        async function convertToInteractive(key) {\n",
              "          const element = document.querySelector('#df-f5854af9-2d5c-446f-b48f-1cf87e680fb1');\n",
              "          const dataTable =\n",
              "            await google.colab.kernel.invokeFunction('convertToInteractive',\n",
              "                                                     [key], {});\n",
              "          if (!dataTable) return;\n",
              "\n",
              "          const docLinkHtml = 'Like what you see? Visit the ' +\n",
              "            '<a target=\"_blank\" href=https://colab.research.google.com/notebooks/data_table.ipynb>data table notebook</a>'\n",
              "            + ' to learn more about interactive tables.';\n",
              "          element.innerHTML = '';\n",
              "          dataTable['output_type'] = 'display_data';\n",
              "          await google.colab.output.renderOutput(dataTable, element);\n",
              "          const docLink = document.createElement('div');\n",
              "          docLink.innerHTML = docLinkHtml;\n",
              "          element.appendChild(docLink);\n",
              "        }\n",
              "      </script>\n",
              "    </div>\n",
              "  </div>\n",
              "  "
            ]
          },
          "metadata": {},
          "execution_count": 24
        }
      ]
    },
    {
      "cell_type": "code",
      "source": [
        "#@title Calculate the mean using DataFrame.mean()\n",
        "averagedf = df1.mean (axis = 0, skipna = True, numeric_only=True)\n",
        "#data_table.DataTable(averagedf, include_index=False)"
      ],
      "metadata": {
        "id": "MBJKnzqZI5nm"
      },
      "execution_count": 42,
      "outputs": []
    },
    {
      "cell_type": "code",
      "source": [
        "#@title To Do: Add a heatmap of returns\n",
        "import matplotlib.pyplot as plt\n",
        "import numpy as np\n",
        "import seaborn as sns\n",
        "\n",
        "# Make a 10 x 10 heatmap of some random data\n",
        "side_length = 10\n",
        "# Start with a 10 x 10 matrix with values randomized around 5\n",
        "data = 5 + np.random.randn(side_length, side_length)\n",
        "# The next two lines make the values larger as we get closer to (9, 9)\n",
        "data += np.arange(side_length)\n",
        "data += np.reshape(np.arange(side_length), (side_length, 1))\n",
        "# Generate the heatmap\n",
        "sns.heatmap(data, annot=True, cmap=\"YlGnBu\")\n",
        "plt.show()"
      ],
      "metadata": {
        "id": "eRXDFU6oN_Lx",
        "outputId": "fc66df65-85d4-471c-982d-81fb6fa39a3c",
        "colab": {
          "base_uri": "https://localhost:8080/",
          "height": 449
        }
      },
      "execution_count": 41,
      "outputs": [
        {
          "output_type": "display_data",
          "data": {
            "text/plain": [
              "<Figure size 640x480 with 2 Axes>"
            ],
            "image/png": "[encoded data removed]"
          },
          "metadata": {}
        }
      ]
    }
  ]
}