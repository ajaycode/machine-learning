{
  "nbformat": 4,
  "nbformat_minor": 0,
  "metadata": {
    "colab": {
      "provenance": [],
      "authorship_tag": "ABX9TyNgcbL4gllh/4DwgbWDYECv",
      "include_colab_link": true
    },
    "kernelspec": {
      "name": "python3",
      "display_name": "Python 3"
    },
    "language_info": {
      "name": "python"
    }
  },
  "cells": [
    {
      "cell_type": "markdown",
      "metadata": {
        "id": "view-in-github",
        "colab_type": "text"
      },
      "source": [
        "<a href=\"https://colab.research.google.com/github/ajaycode/machine-learning/blob/main/S_%26_P_500.ipynb\" target=\"_parent\"><img src=\"https://colab.research.google.com/assets/colab-badge.svg\" alt=\"Open In Colab\"/></a>"
      ]
    },
    {
      "cell_type": "markdown",
      "source": [
        "# S & P 500 Returns"
      ],
      "metadata": {
        "id": "8wp0lL5T9YWV"
      }
    },
    {
      "cell_type": "code",
      "source": [
        "#Import the python libraries\n",
        "import pandas as pd\n",
        "import numpy as np\n",
        "from datetime import datetime\n",
        "import matplotlib.pyplot as plt\n",
        "from google.colab import auth\n",
        "import gspread\n",
        "from google.auth import default\n",
        "plt.style.use('fivethirtyeight')"
      ],
      "metadata": {
        "id": "5S1z5BVc9eq8"
      },
      "execution_count": null,
      "outputs": []
    },
    {
      "cell_type": "code",
      "source": [
        "auth.authenticate_user()\n",
        "creds,_ = default()\n",
        "gc = gspread.authorize (creds)"
      ],
      "metadata": {
        "id": "GcWKK-dO9gat"
      },
      "execution_count": null,
      "outputs": []
    },
    {
      "cell_type": "code",
      "source": [
        "#from pandas._libs.tslibs.parsing import parse_datetime_string\n",
        "#workbook = gc.open_by_url('https://docs.google.com/spreadsheets/d/1MhfnKggZxJpKwsMMHoKXcSjvklbpoKyB0lsCWF3GYnw/edit#gid=0')\n",
        "#worksheet1    = workbook.worksheet('Sheet1')\n",
        "df1 = pd.read_csv ('SandP_500.csv')\n",
        "# required, if reading from Google Sheets.\n",
        "df1 = pd.DataFrame (worksheet1.get_all_values())\n",
        "\n",
        "#Treat the first row as columns, needed if reading from a google sheet\n",
        "#df1.columns = df1.iloc[0]\n",
        "df1 = df1.iloc[1:]"
      ],
      "metadata": {
        "id": "xJxVMHxH9iY1"
      },
      "execution_count": null,
      "outputs": []
    },
    {
      "cell_type": "code",
      "source": [
        "df1.head()"
      ],
      "metadata": {
        "colab": {
          "base_uri": "https://localhost:8080/",
          "height": 206
        },
        "id": "z1XMiG6bgKOU",
        "outputId": "badb189c-b2b9-450f-d58f-a866e6667063"
      },
      "execution_count": null,
      "outputs": [
        {
          "output_type": "execute_result",
          "data": {
            "text/plain": [
              "0  Year Value\n",
              "1  1871  4.44\n",
              "2  1872  4.86\n",
              "3  1873  5.11\n",
              "4  1874  4.66\n",
              "5  1875  4.54"
            ],
            "text/html": [
              "\n",
              "  <div id=\"df-a19968a9-98ae-4b9f-b6c6-12812dca0723\">\n",
              "    <div class=\"colab-df-container\">\n",
              "      <div>\n",
              "<style scoped>\n",
              "    .dataframe tbody tr th:only-of-type {\n",
              "        vertical-align: middle;\n",
              "    }\n",
              "\n",
              "    .dataframe tbody tr th {\n",
              "        vertical-align: top;\n",
              "    }\n",
              "\n",
              "    .dataframe thead th {\n",
              "        text-align: right;\n",
              "    }\n",
              "</style>\n",
              "<table border=\"1\" class=\"dataframe\">\n",
              "  <thead>\n",
              "    <tr style=\"text-align: right;\">\n",
              "      <th></th>\n",
              "      <th>Year</th>\n",
              "      <th>Value</th>\n",
              "    </tr>\n",
              "  </thead>\n",
              "  <tbody>\n",
              "    <tr>\n",
              "      <th>1</th>\n",
              "      <td>1871</td>\n",
              "      <td>4.44</td>\n",
              "    </tr>\n",
              "    <tr>\n",
              "      <th>2</th>\n",
              "      <td>1872</td>\n",
              "      <td>4.86</td>\n",
              "    </tr>\n",
              "    <tr>\n",
              "      <th>3</th>\n",
              "      <td>1873</td>\n",
              "      <td>5.11</td>\n",
              "    </tr>\n",
              "    <tr>\n",
              "      <th>4</th>\n",
              "      <td>1874</td>\n",
              "      <td>4.66</td>\n",
              "    </tr>\n",
              "    <tr>\n",
              "      <th>5</th>\n",
              "      <td>1875</td>\n",
              "      <td>4.54</td>\n",
              "    </tr>\n",
              "  </tbody>\n",
              "</table>\n",
              "</div>\n",
              "      <button class=\"colab-df-convert\" onclick=\"convertToInteractive('df-a19968a9-98ae-4b9f-b6c6-12812dca0723')\"\n",
              "              title=\"Convert this dataframe to an interactive table.\"\n",
              "              style=\"display:none;\">\n",
              "        \n",
              "  <svg xmlns=\"http://www.w3.org/2000/svg\" height=\"24px\"viewBox=\"0 0 24 24\"\n",
              "       width=\"24px\">\n",
              "    <path d=\"M0 0h24v24H0V0z\" fill=\"none\"/>\n",
              "    <path d=\"M18.56 5.44l.94 2.06.94-2.06 2.06-.94-2.06-.94-.94-2.06-.94 2.06-2.06.94zm-11 1L8.5 8.5l.94-2.06 2.06-.94-2.06-.94L8.5 2.5l-.94 2.06-2.06.94zm10 10l.94 2.06.94-2.06 2.06-.94-2.06-.94-.94-2.06-.94 2.06-2.06.94z\"/><path d=\"M17.41 7.96l-1.37-1.37c-.4-.4-.92-.59-1.43-.59-.52 0-1.04.2-1.43.59L10.3 9.45l-7.72 7.72c-.78.78-.78 2.05 0 2.83L4 21.41c.39.39.9.59 1.41.59.51 0 1.02-.2 1.41-.59l7.78-7.78 2.81-2.81c.8-.78.8-2.07 0-2.86zM5.41 20L4 18.59l7.72-7.72 1.47 1.35L5.41 20z\"/>\n",
              "  </svg>\n",
              "      </button>\n",
              "      \n",
              "  <style>\n",
              "    .colab-df-container {\n",
              "      display:flex;\n",
              "      flex-wrap:wrap;\n",
              "      gap: 12px;\n",
              "    }\n",
              "\n",
              "    .colab-df-convert {\n",
              "      background-color: #E8F0FE;\n",
              "      border: none;\n",
              "      border-radius: 50%;\n",
              "      cursor: pointer;\n",
              "      display: none;\n",
              "      fill: #1967D2;\n",
              "      height: 32px;\n",
              "      padding: 0 0 0 0;\n",
              "      width: 32px;\n",
              "    }\n",
              "\n",
              "    .colab-df-convert:hover {\n",
              "      background-color: #E2EBFA;\n",
              "      box-shadow: 0px 1px 2px rgba(60, 64, 67, 0.3), 0px 1px 3px 1px rgba(60, 64, 67, 0.15);\n",
              "      fill: #174EA6;\n",
              "    }\n",
              "\n",
              "    [theme=dark] .colab-df-convert {\n",
              "      background-color: #3B4455;\n",
              "      fill: #D2E3FC;\n",
              "    }\n",
              "\n",
              "    [theme=dark] .colab-df-convert:hover {\n",
              "      background-color: #434B5C;\n",
              "      box-shadow: 0px 1px 3px 1px rgba(0, 0, 0, 0.15);\n",
              "      filter: drop-shadow(0px 1px 2px rgba(0, 0, 0, 0.3));\n",
              "      fill: #FFFFFF;\n",
              "    }\n",
              "  </style>\n",
              "\n",
              "      <script>\n",
              "        const buttonEl =\n",
              "          document.querySelector('#df-a19968a9-98ae-4b9f-b6c6-12812dca0723 button.colab-df-convert');\n",
              "        buttonEl.style.display =\n",
              "          google.colab.kernel.accessAllowed ? 'block' : 'none';\n",
              "\n",
              "        async function convertToInteractive(key) {\n",
              "          const element = document.querySelector('#df-a19968a9-98ae-4b9f-b6c6-12812dca0723');\n",
              "          const dataTable =\n",
              "            await google.colab.kernel.invokeFunction('convertToInteractive',\n",
              "                                                     [key], {});\n",
              "          if (!dataTable) return;\n",
              "\n",
              "          const docLinkHtml = 'Like what you see? Visit the ' +\n",
              "            '<a target=\"_blank\" href=https://colab.research.google.com/notebooks/data_table.ipynb>data table notebook</a>'\n",
              "            + ' to learn more about interactive tables.';\n",
              "          element.innerHTML = '';\n",
              "          dataTable['output_type'] = 'display_data';\n",
              "          await google.colab.output.renderOutput(dataTable, element);\n",
              "          const docLink = document.createElement('div');\n",
              "          docLink.innerHTML = docLinkHtml;\n",
              "          element.appendChild(docLink);\n",
              "        }\n",
              "      </script>\n",
              "    </div>\n",
              "  </div>\n",
              "  "
            ]
          },
          "metadata": {},
          "execution_count": 8
        }
      ]
    },
    {
      "cell_type": "code",
      "source": [
        "#Column names that contain returns\n",
        "One_Year = '1Y %'\n",
        "Three_Year = '3Y %'\n",
        "Five_Year = '5Y %'\n",
        "Ten_Year  = '10Y %'\n",
        "Fifteen_Year = '15Y %'\n",
        "Twenty_Year  = '20Y %'\n",
        "TwentyFive_Year  = '25Y %'\n",
        "Thirty_Year  = '30Y %'\n",
        "Forty_Year   = '40Y %'\n",
        "Fifty_Year  = '50Y %'"
      ],
      "metadata": {
        "id": "AKnoBEjPYedo"
      },
      "execution_count": null,
      "outputs": []
    },
    {
      "cell_type": "code",
      "source": [
        "# Convert to integer and floating data typles\n",
        "#df1['Year']  = pd.to_numeric (df1['Year'], errors = 'coerce')\n",
        "#df1['Value'] = pd.to_numeric   (df1['Value'],errors='coerce')"
      ],
      "metadata": {
        "id": "hgA3ipEi9zTF"
      },
      "execution_count": null,
      "outputs": []
    },
    {
      "cell_type": "code",
      "source": [
        "#Check if there are NaN values (non numbers) and display them\n",
        "#newdf = df1[(df1['Value'].isnull())]\n",
        "#print (newdf)"
      ],
      "metadata": {
        "id": "spdTDLDyO8_V"
      },
      "execution_count": null,
      "outputs": []
    },
    {
      "cell_type": "code",
      "source": [
        "# N year returns\n",
        "#df1.at [0,1,2,3,4, Five_Year] = 0\n",
        "def returns_in_n_years (number_of_years, column_name_to_be_updated):\n",
        "  num_years = number_of_years\n",
        "  for i in range (num_years, len(df1)):\n",
        "    #df1.at[i+1, column_name_to_be_updated] = 100*(df1.iloc[i]['Value'] - df1.iloc[i-num_years]['Value'])/df1.iloc[i-num_years]['Value']\n",
        "    df1.at[i+1, column_name_to_be_updated] = 100*(((df1.iloc[i]['Value']/df1.iloc[i-num_years]['Value'])**(1/num_years))-1)\n",
        "  df1[column_name_to_be_updated] = df1[column_name_to_be_updated].round(2)\n",
        "  "
      ],
      "metadata": {
        "id": "ZylSyK5We_qa"
      },
      "execution_count": null,
      "outputs": []
    },
    {
      "cell_type": "code",
      "source": [
        "returns_in_n_years (1, One_Year)\n",
        "returns_in_n_years (3, Three_Year)\n",
        "returns_in_n_years(5, Five_Year)\n",
        "returns_in_n_years (10, Ten_Year)\n",
        "returns_in_n_years (15, Fifteen_Year)\n",
        "returns_in_n_years (20, Twenty_Year)\n",
        "returns_in_n_years (25, TwentyFive_Year)\n",
        "returns_in_n_years (30, Thirty_Year)\n",
        "returns_in_n_years (40, Forty_Year)\n",
        "returns_in_n_years (50, Fifty_Year)"
      ],
      "metadata": {
        "id": "izZsy5izfuuY",
        "colab": {
          "base_uri": "https://localhost:8080/",
          "height": 356
        },
        "outputId": "af622b0f-a4f0-47fa-b6b5-ba61bf0c7e02"
      },
      "execution_count": null,
      "outputs": [
        {
          "output_type": "error",
          "ename": "TypeError",
          "evalue": "ignored",
          "traceback": [
            "\u001b[0;31m---------------------------------------------------------------------------\u001b[0m",
            "\u001b[0;31mTypeError\u001b[0m                                 Traceback (most recent call last)",
            "\u001b[0;32m<ipython-input-18-eecb64b08387>\u001b[0m in \u001b[0;36m<module>\u001b[0;34m\u001b[0m\n\u001b[0;32m----> 1\u001b[0;31m \u001b[0mreturns_in_n_years\u001b[0m \u001b[0;34m(\u001b[0m\u001b[0;36m1\u001b[0m\u001b[0;34m,\u001b[0m \u001b[0mOne_Year\u001b[0m\u001b[0;34m)\u001b[0m\u001b[0;34m\u001b[0m\u001b[0;34m\u001b[0m\u001b[0m\n\u001b[0m\u001b[1;32m      2\u001b[0m \u001b[0mreturns_in_n_years\u001b[0m \u001b[0;34m(\u001b[0m\u001b[0;36m3\u001b[0m\u001b[0;34m,\u001b[0m \u001b[0mThree_Year\u001b[0m\u001b[0;34m)\u001b[0m\u001b[0;34m\u001b[0m\u001b[0;34m\u001b[0m\u001b[0m\n\u001b[1;32m      3\u001b[0m \u001b[0mreturns_in_n_years\u001b[0m\u001b[0;34m(\u001b[0m\u001b[0;36m5\u001b[0m\u001b[0;34m,\u001b[0m \u001b[0mFive_Year\u001b[0m\u001b[0;34m)\u001b[0m\u001b[0;34m\u001b[0m\u001b[0;34m\u001b[0m\u001b[0m\n\u001b[1;32m      4\u001b[0m \u001b[0mreturns_in_n_years\u001b[0m \u001b[0;34m(\u001b[0m\u001b[0;36m10\u001b[0m\u001b[0;34m,\u001b[0m \u001b[0mTen_Year\u001b[0m\u001b[0;34m)\u001b[0m\u001b[0;34m\u001b[0m\u001b[0;34m\u001b[0m\u001b[0m\n\u001b[1;32m      5\u001b[0m \u001b[0mreturns_in_n_years\u001b[0m \u001b[0;34m(\u001b[0m\u001b[0;36m15\u001b[0m\u001b[0;34m,\u001b[0m \u001b[0mFifteen_Year\u001b[0m\u001b[0;34m)\u001b[0m\u001b[0;34m\u001b[0m\u001b[0;34m\u001b[0m\u001b[0m\n",
            "\u001b[0;32m<ipython-input-17-25a2b58994c2>\u001b[0m in \u001b[0;36mreturns_in_n_years\u001b[0;34m(number_of_years, column_name_to_be_updated)\u001b[0m\n\u001b[1;32m      5\u001b[0m   \u001b[0;32mfor\u001b[0m \u001b[0mi\u001b[0m \u001b[0;32min\u001b[0m \u001b[0mrange\u001b[0m \u001b[0;34m(\u001b[0m\u001b[0mnum_years\u001b[0m\u001b[0;34m,\u001b[0m \u001b[0mlen\u001b[0m\u001b[0;34m(\u001b[0m\u001b[0mdf1\u001b[0m\u001b[0;34m)\u001b[0m\u001b[0;34m-\u001b[0m\u001b[0;36m1\u001b[0m\u001b[0;34m)\u001b[0m\u001b[0;34m:\u001b[0m\u001b[0;34m\u001b[0m\u001b[0;34m\u001b[0m\u001b[0m\n\u001b[1;32m      6\u001b[0m     \u001b[0;31m#df1.at[i+1, column_name_to_be_updated] = 100*(df1.iloc[i]['Value'] - df1.iloc[i-num_years]['Value'])/df1.iloc[i-num_years]['Value']\u001b[0m\u001b[0;34m\u001b[0m\u001b[0;34m\u001b[0m\u001b[0;34m\u001b[0m\u001b[0m\n\u001b[0;32m----> 7\u001b[0;31m     \u001b[0mdf1\u001b[0m\u001b[0;34m.\u001b[0m\u001b[0mat\u001b[0m\u001b[0;34m[\u001b[0m\u001b[0mi\u001b[0m\u001b[0;34m+\u001b[0m\u001b[0;36m1\u001b[0m\u001b[0;34m,\u001b[0m \u001b[0mcolumn_name_to_be_updated\u001b[0m\u001b[0;34m]\u001b[0m \u001b[0;34m=\u001b[0m \u001b[0;36m100\u001b[0m\u001b[0;34m*\u001b[0m\u001b[0;34m(\u001b[0m\u001b[0;34m(\u001b[0m\u001b[0;34m(\u001b[0m\u001b[0mdf1\u001b[0m\u001b[0;34m.\u001b[0m\u001b[0miloc\u001b[0m\u001b[0;34m[\u001b[0m\u001b[0mi\u001b[0m\u001b[0;34m]\u001b[0m\u001b[0;34m[\u001b[0m\u001b[0;34m'Value'\u001b[0m\u001b[0;34m]\u001b[0m\u001b[0;34m/\u001b[0m\u001b[0mdf1\u001b[0m\u001b[0;34m.\u001b[0m\u001b[0miloc\u001b[0m\u001b[0;34m[\u001b[0m\u001b[0mi\u001b[0m\u001b[0;34m-\u001b[0m\u001b[0mnum_years\u001b[0m\u001b[0;34m]\u001b[0m\u001b[0;34m[\u001b[0m\u001b[0;34m'Value'\u001b[0m\u001b[0;34m]\u001b[0m\u001b[0;34m)\u001b[0m\u001b[0;34m**\u001b[0m\u001b[0;34m(\u001b[0m\u001b[0;36m1\u001b[0m\u001b[0;34m/\u001b[0m\u001b[0mnum_years\u001b[0m\u001b[0;34m)\u001b[0m\u001b[0;34m)\u001b[0m\u001b[0;34m-\u001b[0m\u001b[0;36m1\u001b[0m\u001b[0;34m)\u001b[0m\u001b[0;34m\u001b[0m\u001b[0;34m\u001b[0m\u001b[0m\n\u001b[0m\u001b[1;32m      8\u001b[0m   \u001b[0mdf1\u001b[0m\u001b[0;34m[\u001b[0m\u001b[0mcolumn_name_to_be_updated\u001b[0m\u001b[0;34m]\u001b[0m \u001b[0;34m=\u001b[0m \u001b[0mdf1\u001b[0m\u001b[0;34m[\u001b[0m\u001b[0mcolumn_name_to_be_updated\u001b[0m\u001b[0;34m]\u001b[0m\u001b[0;34m.\u001b[0m\u001b[0mround\u001b[0m\u001b[0;34m(\u001b[0m\u001b[0;36m2\u001b[0m\u001b[0;34m)\u001b[0m\u001b[0;34m\u001b[0m\u001b[0;34m\u001b[0m\u001b[0m\n\u001b[1;32m      9\u001b[0m \u001b[0;34m\u001b[0m\u001b[0m\n",
            "\u001b[0;31mTypeError\u001b[0m: unsupported operand type(s) for /: 'str' and 'str'"
          ]
        }
      ]
    },
    {
      "cell_type": "code",
      "source": [
        "#df1.tail()\n",
        "#df1[One_Year]  = pd.to_numeric (df1[One_Year], errors = 'coerce')\n",
        "#df1[Three_Year]  = pd.to_numeric (df1[Three_Year], errors = 'coerce')\n",
        "df1.info()"
      ],
      "metadata": {
        "id": "AUJBNA4ob2wB"
      },
      "execution_count": null,
      "outputs": []
    },
    {
      "cell_type": "code",
      "source": [
        "#df1[Ten_Year].mean()"
      ],
      "metadata": {
        "id": "v9xvuBqFlZgd"
      },
      "execution_count": null,
      "outputs": []
    },
    {
      "cell_type": "code",
      "source": [
        "#Customizing the data table display, sortable columns\n",
        "from google.colab import data_table\n",
        "#Replace 'NaN' with blanks\n",
        "df1 = df1.replace (np.nan, '')\n",
        "#df1.fillna (\" \")\n",
        "#print (df1)\n",
        "df1.style.highlight_min (color='blue').highlight_max(color='magenta').highlight_null()\n",
        "df1.head(len(df1))\n",
        "#data_table.DataTable(df1, include_index=False, num_rows_per_page=len(df1))"
      ],
      "metadata": {
        "id": "0gb2Bd9VdurB"
      },
      "execution_count": null,
      "outputs": []
    },
    {
      "cell_type": "code",
      "source": [
        "#@title Calculate average for each period\n",
        "#df1[One_Year]  = pd.to_numeric (df1[One_Year], errors = 'coerce')\n",
        "\n",
        "#print (df1[One_Year].mean())\n",
        "#print (df1[Five_Year].mean())\n",
        "\n",
        "print( df1[[One_Year, Five_Year, Ten_Year, Fifteen_Year, Twenty_Year, TwentyFive_Year, Thirty_Year, Forty_Year, Fifty_Year]].mean().to_list())\n",
        "\n",
        "#Round all columns to digits after decimal\n",
        "averagedf = averagedf.round(2)\n",
        "averagedf.head()"
      ],
      "metadata": {
        "id": "sa5mDA8bHatn"
      },
      "execution_count": null,
      "outputs": []
    },
    {
      "cell_type": "code",
      "source": [
        "#@title Calculate the mean using DataFrame.mean()\n",
        "averagedf = df1.mean (axis = 0, skipna = True)\n",
        "#data_table.DataTable(averagedf, include_index=False)"
      ],
      "metadata": {
        "id": "MBJKnzqZI5nm"
      },
      "execution_count": null,
      "outputs": []
    },
    {
      "cell_type": "code",
      "source": [
        "averagedf[Twenty_Year].round(2)"
      ],
      "metadata": {
        "id": "eujsTZP_JG_l"
      },
      "execution_count": null,
      "outputs": []
    },
    {
      "cell_type": "code",
      "source": [
        "#@title To Do: Add a heatmap of returns\n",
        "import matplotlib.pyplot as plt\n",
        "import numpy as np\n",
        "import seaborn as sns\n",
        "\n",
        "# Make a 10 x 10 heatmap of some random data\n",
        "side_length = 10\n",
        "# Start with a 10 x 10 matrix with values randomized around 5\n",
        "data = 5 + np.random.randn(side_length, side_length)\n",
        "# The next two lines make the values larger as we get closer to (9, 9)\n",
        "data += np.arange(side_length)\n",
        "data += np.reshape(np.arange(side_length), (side_length, 1))\n",
        "# Generate the heatmap\n",
        "sns.heatmap(data)\n",
        "plt.show()"
      ],
      "metadata": {
        "id": "eRXDFU6oN_Lx"
      },
      "execution_count": null,
      "outputs": []
    }
  ]
}