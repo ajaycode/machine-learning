{
  "cells": [
    {
      "cell_type": "markdown",
      "metadata": {
        "id": "view-in-github",
        "colab_type": "text"
      },
      "source": [
        "<a href=\"https://colab.research.google.com/github/ajaycode/machine-learning/blob/main/Content%20Summarization.ipynb\" target=\"_parent\"><img src=\"https://colab.research.google.com/assets/colab-badge.svg\" alt=\"Open In Colab\"/></a>"
      ]
    },
    {
      "cell_type": "markdown",
      "source": [
        "# Content summarization"
      ],
      "metadata": {
        "id": "7xejopr9rBuc"
      },
      "id": "7xejopr9rBuc"
    },
    {
      "cell_type": "code",
      "execution_count": null,
      "id": "e821b3da",
      "metadata": {
        "id": "e821b3da"
      },
      "outputs": [],
      "source": [
        "# !pip install -qq feedparser trafilatura feedgenerator"
      ]
    },
    {
      "cell_type": "code",
      "execution_count": null,
      "id": "f7003244",
      "metadata": {
        "id": "f7003244"
      },
      "outputs": [],
      "source": [
        "import trafilatura\n",
        "import feedparser\n",
        "import requests\n",
        "from bs4 import BeautifulSoup\n",
        "from feedgenerator import DefaultFeed"
      ]
    },
    {
      "cell_type": "markdown",
      "id": "40115a8c",
      "metadata": {
        "id": "40115a8c"
      },
      "source": [
        "## Getting Text from a URL"
      ]
    },
    {
      "cell_type": "code",
      "execution_count": null,
      "id": "da45ccf3",
      "metadata": {
        "id": "da45ccf3"
      },
      "outputs": [],
      "source": [
        "# Download an example website\n",
        "downloaded = trafilatura.fetch_url('https://github.blog/2019-03-29-leader-spotlight-erin-spiceland/')"
      ]
    },
    {
      "cell_type": "code",
      "execution_count": null,
      "id": "1bf22774",
      "metadata": {
        "id": "1bf22774",
        "outputId": "85367ba4-2111-45a0-e7bf-51206ca1484a"
      },
      "outputs": [
        {
          "data": {
            "text/plain": [
              "'Every March we recognize the women who have shaped history—and now, we’re taking a look forward. From driving software development in large companies to maintaining thriving open source communities, we’re spending Women’s History Month with women leaders who are making history every day in the tech community. Erin Spiceland is a Software Engineer for SpaceX. Born and raised in rural south Georgia, she is a Choctaw and Chickasaw mother of two now living in downtown Los Angeles. Erin didn’t finish college—she’s a predominantly self-taught software engineer. In her spare time, she makes handmade Native American beadwork and regalia and attends powwows.\\nHow would you summarize your career (so far) in a single sentence?\\nMy career has been a winding road through periods of stimulation and health as well as periods of personal misery. During it all, I’ve learned a variety of programming languages and technologies while working on a diverse array of products and services. I’m a domestic abuse survivor and a Choctaw bisexual polyamorous woman. I’m so proud of myself that I made it this far considering where I came from.\\nWhat was your first job in tech like?\\nIn 2007, I had a three-year-old daughter and I was trying to finish my computer science degree one class at a time, all while keeping my house and family running smoothly. I found the math classes exciting and quickly finished my math minor, leaving only computer science classes. I was looking at about five years before I would graduate. Then, my husband at the time recommended me for an entry software developer position at a telecom and digital communications company.\\nWhen faced with the choice between an expensive computer science degree and getting paid to do what I loved, I dropped out of college and accepted the job. I was hired to work on internal tooling, and eventually, products. I did a lot of development on product front-ends, embedded network devices, and a distributed platform-as-a-service. I learned Java/JSP, Python, JavaScript/CSS, Node.js, as well as MyS'"
            ]
          },
          "execution_count": 3,
          "metadata": {},
          "output_type": "execute_result"
        }
      ],
      "source": [
        "# Extract the main text (And show the start)\n",
        "trafilatura.extract(downloaded, include_comments=False, include_tables=False)[:2048]"
      ]
    },
    {
      "cell_type": "code",
      "execution_count": null,
      "id": "b827cdde",
      "metadata": {
        "id": "b827cdde"
      },
      "outputs": [],
      "source": [
        "# Make a function to do this\n",
        "def get_text(url):\n",
        "    downloaded = trafilatura.fetch_url(url)\n",
        "    return trafilatura.extract(downloaded, include_comments=False, include_tables=False)"
      ]
    },
    {
      "cell_type": "markdown",
      "id": "70f8073a",
      "metadata": {
        "id": "70f8073a"
      },
      "source": [
        "## Sumarization"
      ]
    },
    {
      "cell_type": "markdown",
      "source": [
        "See https://huggingface.co/inference-api and get your token from https://huggingface.co/settings/tokens (or visit the model page at https://huggingface.co/facebook/bart-large-cnn, click 'Deploy', choose Inference API and click 'show token to get the code ready to go)"
      ],
      "metadata": {
        "id": "Nr-eeSFS0gti"
      },
      "id": "Nr-eeSFS0gti"
    },
    {
      "cell_type": "code",
      "execution_count": null,
      "id": "fdb4adff",
      "metadata": {
        "id": "fdb4adff"
      },
      "outputs": [],
      "source": [
        "API_URL = \"https://api-inference.huggingface.co/models/facebook/bart-large-cnn\"\n",
        "headers = {\"Authorization\": \"Bearer YOUR_API_KEY\"}\n",
        "\n",
        "def query(payload):\n",
        "    response = requests.post(API_URL, headers=headers, json=payload)\n",
        "    return response.json()"
      ]
    },
    {
      "cell_type": "code",
      "execution_count": null,
      "id": "ce53d010",
      "metadata": {
        "id": "ce53d010"
      },
      "outputs": [],
      "source": [
        "def summarize(text):\n",
        "    if text is None: return None\n",
        "    output = query({\n",
        "        \"inputs\": text[:2048],\n",
        "            \"max_length\":300, \n",
        "            \"min_length\":30, \n",
        "            \"do_sample\":False\n",
        "    })\n",
        "    return output[0]['summary_text']"
      ]
    },
    {
      "cell_type": "code",
      "execution_count": null,
      "id": "af4f94ea",
      "metadata": {
        "id": "af4f94ea",
        "outputId": "603ee833-af51-40e7-ff13-15cf9511c48e"
      },
      "outputs": [
        {
          "data": {
            "text/plain": [
              "'Erin Spiceland is a Software Engineer for SpaceX. Born and raised in rural south Georgia, she is a Choctaw and Chickasaw mother of two now living in downtown Los Angeles. In her spare time, she makes handmade Native American beadwork and regalia and attends powwows.'"
            ]
          },
          "execution_count": 7,
          "metadata": {},
          "output_type": "execute_result"
        }
      ],
      "source": [
        "# Test this:\n",
        "text = get_text('https://github.blog/2019-03-29-leader-spotlight-erin-spiceland/')\n",
        "summarize(text)"
      ]
    },
    {
      "cell_type": "markdown",
      "id": "904dc40c",
      "metadata": {
        "id": "904dc40c"
      },
      "source": [
        "## Getting and Summarizing the feed"
      ]
    },
    {
      "cell_type": "code",
      "execution_count": null,
      "id": "4c673243",
      "metadata": {
        "id": "4c673243"
      },
      "outputs": [],
      "source": [
        "HN_Feed = feedparser.parse('https://hnrss.org/frontpage')"
      ]
    },
    {
      "cell_type": "code",
      "execution_count": null,
      "id": "e97b2ecb",
      "metadata": {
        "id": "e97b2ecb",
        "outputId": "6ace8ed5-e0ea-48e5-9615-7f9b7351a9f5"
      },
      "outputs": [
        {
          "data": {
            "text/plain": [
              "20"
            ]
          },
          "execution_count": 9,
          "metadata": {},
          "output_type": "execute_result"
        }
      ],
      "source": [
        "len(HN_Feed.entries)"
      ]
    },
    {
      "cell_type": "code",
      "execution_count": null,
      "id": "da826195",
      "metadata": {
        "id": "da826195",
        "outputId": "114d299f-8e34-4f3e-efa5-0fd775c7f983"
      },
      "outputs": [
        {
          "name": "stdout",
          "output_type": "stream",
          "text": [
            "Title: Where does ChatGPT fall on the political compass?\n",
            "Summary: OpenAI recently released ChatGPT, one of the most impressive conversational artificial intelligence systems ever created. In the first five days after its debut on November 30, over 1 million people had already interacted with the system. We asked the hot new artificial intelligence system to take four popular political quizzes. Guess what we found...\n",
            "\n",
            "\n",
            "Title: PRQL: a simple, powerful, pipelined SQL replacement\n",
            "Summary: PRQL is an open-source programming language. It is database agnostic, compiling to many dialects of SQL. It has bindings to most major languages (and more are in progress) PRQL allows for column lineage and type inspection. It also allows for powerful autocomplete, type-checking, and helpful error messages.\n",
            "\n",
            "\n",
            "Title: Herb Kelleher: Manage in Good Times So You'll Do Well in the Bad Times (2006)\n",
            "Summary: Herb Kelleher: Manage in Good Times So You'll Do Well in the Bad Times. Southwest Airlines chairman and former CEO speaks at Stanford GSB. Southwest is the only major U.S. airline that has consistently managed to turn a profit since 9/11. The airline has grown into the third largest in the world.\n",
            "\n",
            "\n"
          ]
        }
      ],
      "source": [
        "# Run through the first 3 entries, getting the text and summarizing:\n",
        "for p in HN_Feed.entries[:3]:\n",
        "    summary = p['summary']\n",
        "    if 'Article URL' in summary:\n",
        "        soup = BeautifulSoup(summary, 'html.parser')\n",
        "        url = soup.find('a').get('href')\n",
        "        text = get_text(url)\n",
        "        if text is not None:\n",
        "            summary = summarize(text)\n",
        "    print(f\"Title: {p['title']}\")\n",
        "    print(f\"Summary: {summary}\\n\\n\")"
      ]
    },
    {
      "cell_type": "markdown",
      "id": "b87584ad",
      "metadata": {
        "id": "b87584ad"
      },
      "source": [
        "# Sharing with the World\n",
        "\n",
        "I use the `feedgenerator` package to write the summaries to a new feed (with some custom extra steps for sites like YouTube and Twitter). You can load this in your favourite feed reader by pointing it at https://www.distilhn.com/feed/feed.xml. I also made a basi index.html file that uses javascript to read this feed and insert each item into the page, visible at https://www.distilhn.com. feel free to view the page source to see how that works :)"
      ]
    }
  ],
  "metadata": {
    "kernelspec": {
      "display_name": "Python 3",
      "language": "python",
      "name": "python3"
    },
    "language_info": {
      "codemirror_mode": {
        "name": "ipython",
        "version": 3
      },
      "file_extension": ".py",
      "mimetype": "text/x-python",
      "name": "python",
      "nbconvert_exporter": "python",
      "pygments_lexer": "ipython3",
      "version": "3.10.6"
    },
    "vscode": {
      "interpreter": {
        "hash": "e7370f93d1d0cde622a1f8e1c04877d8463912d04d973331ad4851f04de6915a"
      }
    },
    "colab": {
      "provenance": [],
      "include_colab_link": true
    }
  },
  "nbformat": 4,
  "nbformat_minor": 5
}